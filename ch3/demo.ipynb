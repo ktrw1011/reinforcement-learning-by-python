{
 "cells": [
  {
   "cell_type": "code",
   "execution_count": 1,
   "id": "44314c7f-101f-48a1-b844-3da5c0cf99f0",
   "metadata": {},
   "outputs": [],
   "source": [
    "import numpy as np\n",
    "import coin_toss"
   ]
  },
  {
   "cell_type": "code",
   "execution_count": 2,
   "id": "c5f6d622-14cc-40f5-9bc5-a7e3d7fd41cf",
   "metadata": {},
   "outputs": [],
   "source": [
    "env = coin_toss.CoinToss([0.1, 0.5, 0.1, 0.9, 0.1])"
   ]
  },
  {
   "cell_type": "code",
   "execution_count": 3,
   "id": "8bd3309f-b551-4649-a2f8-03e4ed6295b6",
   "metadata": {},
   "outputs": [],
   "source": [
    "epsilons = [0.0, 0.1, 0.2, 0.5, 0.8]"
   ]
  },
  {
   "cell_type": "code",
   "execution_count": 4,
   "id": "3fef8df7-5030-433d-bdfc-dd15d0848aa6",
   "metadata": {},
   "outputs": [],
   "source": [
    "agent = coin_toss.EpsilonGreedyAgent(epsilon=0.2, verbose=True)"
   ]
  },
  {
   "cell_type": "code",
   "execution_count": 5,
   "id": "8c8d77e8-5a21-4dba-9df5-2ff30eaef898",
   "metadata": {},
   "outputs": [],
   "source": [
    "env.max_episode_steps = 10"
   ]
  },
  {
   "cell_type": "code",
   "execution_count": 6,
   "id": "9880eb25-9cdf-4ef4-8865-2530235c0205",
   "metadata": {},
   "outputs": [
    {
     "name": "stdout",
     "output_type": "stream",
     "text": [
      "==========\n",
      "現在のコインを投げたときの期待値は [0.0, 0.0, 0.0, 0.0, 0.0]\n",
      "【活用します】\n",
      "投げるコインは 0.1\n",
      "獲得したリワード 0.0\n",
      "==========\n",
      "==========\n",
      "現在のコインを投げたときの期待値は [0.0, 0.0, 0.0, 0.0, 0.0]\n",
      "【活用します】\n",
      "投げるコインは 0.1\n",
      "獲得したリワード 0.0\n",
      "==========\n",
      "==========\n",
      "現在のコインを投げたときの期待値は [0.0, 0.0, 0.0, 0.0, 0.0]\n",
      "【活用します】\n",
      "投げるコインは 0.1\n",
      "獲得したリワード 0.0\n",
      "==========\n",
      "==========\n",
      "現在のコインを投げたときの期待値は [0.0, 0.0, 0.0, 0.0, 0.0]\n",
      "【活用します】\n",
      "投げるコインは 0.1\n",
      "獲得したリワード 0.0\n",
      "==========\n",
      "==========\n",
      "現在のコインを投げたときの期待値は [0.0, 0.0, 0.0, 0.0, 0.0]\n",
      "【活用します】\n",
      "投げるコインは 0.1\n",
      "獲得したリワード 0.0\n",
      "==========\n",
      "==========\n",
      "現在のコインを投げたときの期待値は [0.0, 0.0, 0.0, 0.0, 0.0]\n",
      "【探索します】\n",
      "投げるコインは 0.5\n",
      "獲得したリワード 1.0\n",
      "==========\n",
      "==========\n",
      "現在のコインを投げたときの期待値は [0.0, 1.0, 0.0, 0.0, 0.0]\n",
      "【活用します】\n",
      "投げるコインは 0.5\n",
      "獲得したリワード 1.0\n",
      "==========\n",
      "==========\n",
      "現在のコインを投げたときの期待値は [0.0, 1.0, 0.0, 0.0, 0.0]\n",
      "【探索します】\n",
      "投げるコインは 0.5\n",
      "獲得したリワード 0.0\n",
      "==========\n",
      "==========\n",
      "現在のコインを投げたときの期待値は [0.0, 0.6666666666666666, 0.0, 0.0, 0.0]\n",
      "【活用します】\n",
      "投げるコインは 0.5\n",
      "獲得したリワード 0.0\n",
      "==========\n",
      "==========\n",
      "現在のコインを投げたときの期待値は [0.0, 0.5, 0.0, 0.0, 0.0]\n",
      "【活用します】\n",
      "投げるコインは 0.5\n",
      "獲得したリワード 1.0\n",
      "==========\n"
     ]
    }
   ],
   "source": [
    "rewords, N = agent.play(env)"
   ]
  },
  {
   "cell_type": "code",
   "execution_count": 7,
   "id": "aea0497d-595c-4b07-be47-947eb196d9b9",
   "metadata": {},
   "outputs": [
    {
     "name": "stdout",
     "output_type": "stream",
     "text": [
      "獲得したリワードの平均:\t0.30\n",
      "コインの投げた回数:\t[5, 5, 0, 0, 0]\n"
     ]
    }
   ],
   "source": [
    "print(f\"獲得したリワードの平均:\\t{np.mean(rewords):.2f}\")\n",
    "print(f\"コインの投げた回数:\\t{N}\")"
   ]
  },
  {
   "cell_type": "code",
   "execution_count": null,
   "id": "04c452ee-01bb-477d-8af0-41d5bf110afa",
   "metadata": {},
   "outputs": [],
   "source": []
  }
 ],
 "metadata": {
  "kernelspec": {
   "display_name": "Python 3 (ipykernel)",
   "language": "python",
   "name": "python3"
  },
  "language_info": {
   "codemirror_mode": {
    "name": "ipython",
    "version": 3
   },
   "file_extension": ".py",
   "mimetype": "text/x-python",
   "name": "python",
   "nbconvert_exporter": "python",
   "pygments_lexer": "ipython3",
   "version": "3.9.5"
  }
 },
 "nbformat": 4,
 "nbformat_minor": 5
}
